{
 "cells": [
  {
   "cell_type": "markdown",
   "metadata": {},
   "source": [
    "# Credit Score Detection"
   ]
  },
  {
   "cell_type": "markdown",
   "metadata": {},
   "source": [
    "## Importing Libraries "
   ]
  },
  {
   "cell_type": "code",
   "execution_count": 5,
   "metadata": {},
   "outputs": [],
   "source": [
    "import numpy as np\n",
    "import pandas as pd\n",
    "from sklearn import preprocessing\n",
    "from sklearn.linear_model import LogisticRegression\n",
    "from sklearn.model_selection import train_test_split\n",
    "import matplotlib.pyplot as plt\n",
    "from sklearn.metrics import accuracy_score, classification_report, confusion_matrix\n",
    "from sklearn.preprocessing import MinMaxScaler\n",
    "from sklearn.preprocessing import PolynomialFeatures\n",
    "from sklearn.preprocessing import StandardScaler\n",
    "from sklearn.linear_model import LogisticRegressionCV\n",
    "from sklearn import svm\n",
    "from sklearn.model_selection import cross_val_score"
   ]
  },
  {
   "cell_type": "markdown",
   "metadata": {},
   "source": [
    "## Get Dataset "
   ]
  },
  {
   "cell_type": "code",
   "execution_count": 6,
   "metadata": {},
   "outputs": [
    {
     "name": "stdout",
     "output_type": "stream",
     "text": [
      "    checking_status  duration                  credit_history  \\\n",
      "0                <0       6.0  critical/other existing credit   \n",
      "1          0<=X<200      48.0                   existing paid   \n",
      "2       no checking      12.0  critical/other existing credit   \n",
      "3                <0      42.0                   existing paid   \n",
      "4                <0      24.0              delayed previously   \n",
      "..              ...       ...                             ...   \n",
      "995     no checking      12.0                   existing paid   \n",
      "996              <0      30.0                   existing paid   \n",
      "997     no checking      12.0                   existing paid   \n",
      "998              <0      45.0                   existing paid   \n",
      "999        0<=X<200      45.0  critical/other existing credit   \n",
      "\n",
      "                 purpose  credit_amount    savings_status  employment  \\\n",
      "0               radio/tv         1169.0  no known savings         >=7   \n",
      "1               radio/tv         5951.0              <100      1<=X<4   \n",
      "2              education         2096.0              <100      4<=X<7   \n",
      "3    furniture/equipment         7882.0              <100      4<=X<7   \n",
      "4                new car         4870.0              <100      1<=X<4   \n",
      "..                   ...            ...               ...         ...   \n",
      "995  furniture/equipment         1736.0              <100      4<=X<7   \n",
      "996             used car         3857.0              <100      1<=X<4   \n",
      "997             radio/tv          804.0              <100         >=7   \n",
      "998             radio/tv         1845.0              <100      1<=X<4   \n",
      "999             used car         4576.0        100<=X<500  unemployed   \n",
      "\n",
      "     installment_commitment     personal_status other_parties  ...  \\\n",
      "0                       4.0         male single          none  ...   \n",
      "1                       2.0  female div/dep/mar          none  ...   \n",
      "2                       2.0         male single          none  ...   \n",
      "3                       2.0         male single     guarantor  ...   \n",
      "4                       3.0         male single          none  ...   \n",
      "..                      ...                 ...           ...  ...   \n",
      "995                     3.0  female div/dep/mar          none  ...   \n",
      "996                     4.0        male div/sep          none  ...   \n",
      "997                     4.0         male single          none  ...   \n",
      "998                     4.0         male single          none  ...   \n",
      "999                     3.0         male single          none  ...   \n",
      "\n",
      "     property_magnitude   age  other_payment_plans   housing existing_credits  \\\n",
      "0           real estate  67.0                 none       own              2.0   \n",
      "1           real estate  22.0                 none       own              1.0   \n",
      "2           real estate  49.0                 none       own              1.0   \n",
      "3        life insurance  45.0                 none  for free              1.0   \n",
      "4     no known property  53.0                 none  for free              2.0   \n",
      "..                  ...   ...                  ...       ...              ...   \n",
      "995         real estate  31.0                 none       own              1.0   \n",
      "996      life insurance  40.0                 none       own              1.0   \n",
      "997                 car  38.0                 none       own              1.0   \n",
      "998   no known property  23.0                 none  for free              1.0   \n",
      "999                 car  27.0                 none       own              1.0   \n",
      "\n",
      "                           job num_dependents  own_telephone foreign_worker  \\\n",
      "0                      skilled            1.0            yes            yes   \n",
      "1                      skilled            1.0           none            yes   \n",
      "2           unskilled resident            2.0           none            yes   \n",
      "3                      skilled            2.0           none            yes   \n",
      "4                      skilled            2.0           none            yes   \n",
      "..                         ...            ...            ...            ...   \n",
      "995         unskilled resident            1.0           none            yes   \n",
      "996  high qualif/self emp/mgmt            1.0            yes            yes   \n",
      "997                    skilled            1.0           none            yes   \n",
      "998                    skilled            1.0            yes            yes   \n",
      "999                    skilled            1.0           none            yes   \n",
      "\n",
      "    class  \n",
      "0    good  \n",
      "1     bad  \n",
      "2    good  \n",
      "3    good  \n",
      "4     bad  \n",
      "..    ...  \n",
      "995  good  \n",
      "996  good  \n",
      "997  good  \n",
      "998   bad  \n",
      "999  good  \n",
      "\n",
      "[1000 rows x 21 columns]\n"
     ]
    }
   ],
   "source": [
    "data = pd.read_csv(\"credit_customers.csv\")\n",
    "print(data)"
   ]
  },
  {
   "cell_type": "markdown",
   "metadata": {},
   "source": [
    "## One-hot-encoding"
   ]
  },
  {
   "cell_type": "code",
   "execution_count": 7,
   "metadata": {},
   "outputs": [
    {
     "name": "stdout",
     "output_type": "stream",
     "text": [
      "60\n"
     ]
    }
   ],
   "source": [
    "features_to_encode = [\"checking_status\", \"credit_history\", \"purpose\", \"savings_status\", \"other_payment_plans\", \n",
    "                      \"employment\", \"personal_status\", \"other_parties\", \"property_magnitude\",\"housing\", \"job\"]\n",
    "\n",
    "one_hot_encoded = pd.get_dummies(data[features_to_encode]) \n",
    "data = pd.concat([one_hot_encoded, data], axis=1)\n",
    "data = data.drop(features_to_encode, axis=1)\n",
    "\n",
    "data['own_telephone']  = data['own_telephone'].replace({\"none\": 0, \"yes\": 1})\n",
    "data['foreign_worker']  = data['foreign_worker'].replace({\"no\": 0, \"yes\": 1})\n",
    "data['class']  = data['class'].replace({\"bad\": 0, \"good\": 1})\n",
    "df = pd.DataFrame(data)\n",
    "print(len(df.columns.tolist()))"
   ]
  },
  {
   "cell_type": "markdown",
   "metadata": {},
   "source": [
    "## Scaling Data using MinMax"
   ]
  },
  {
   "cell_type": "code",
   "execution_count": 8,
   "metadata": {},
   "outputs": [
    {
     "name": "stdout",
     "output_type": "stream",
     "text": [
      "     checking_status_0<=X<200  checking_status_<0  checking_status_>=200  \\\n",
      "0                           0                   1                      0   \n",
      "1                           1                   0                      0   \n",
      "2                           0                   0                      0   \n",
      "3                           0                   1                      0   \n",
      "4                           0                   1                      0   \n",
      "..                        ...                 ...                    ...   \n",
      "995                         0                   0                      0   \n",
      "996                         0                   1                      0   \n",
      "997                         0                   0                      0   \n",
      "998                         0                   1                      0   \n",
      "999                         1                   0                      0   \n",
      "\n",
      "     checking_status_no checking  credit_history_all paid  \\\n",
      "0                              0                        0   \n",
      "1                              0                        0   \n",
      "2                              1                        0   \n",
      "3                              0                        0   \n",
      "4                              0                        0   \n",
      "..                           ...                      ...   \n",
      "995                            1                        0   \n",
      "996                            0                        0   \n",
      "997                            1                        0   \n",
      "998                            0                        0   \n",
      "999                            0                        0   \n",
      "\n",
      "     credit_history_critical/other existing credit  \\\n",
      "0                                                1   \n",
      "1                                                0   \n",
      "2                                                1   \n",
      "3                                                0   \n",
      "4                                                0   \n",
      "..                                             ...   \n",
      "995                                              0   \n",
      "996                                              0   \n",
      "997                                              0   \n",
      "998                                              0   \n",
      "999                                              1   \n",
      "\n",
      "     credit_history_delayed previously  credit_history_existing paid  \\\n",
      "0                                    0                             0   \n",
      "1                                    0                             1   \n",
      "2                                    0                             0   \n",
      "3                                    0                             1   \n",
      "4                                    1                             0   \n",
      "..                                 ...                           ...   \n",
      "995                                  0                             1   \n",
      "996                                  0                             1   \n",
      "997                                  0                             1   \n",
      "998                                  0                             1   \n",
      "999                                  0                             0   \n",
      "\n",
      "     credit_history_no credits/all paid  purpose_business  ...  duration  \\\n",
      "0                                     0                 0  ... -1.236478   \n",
      "1                                     0                 0  ...  2.248194   \n",
      "2                                     0                 0  ... -0.738668   \n",
      "3                                     0                 0  ...  1.750384   \n",
      "4                                     0                 0  ...  0.256953   \n",
      "..                                  ...               ...  ...       ...   \n",
      "995                                   0                 0  ... -0.738668   \n",
      "996                                   0                 0  ...  0.754763   \n",
      "997                                   0                 0  ... -0.738668   \n",
      "998                                   0                 0  ...  1.999289   \n",
      "999                                   0                 0  ...  1.999289   \n",
      "\n",
      "     credit_amount  installment_commitment  residence_since       age  \\\n",
      "0        -0.745131                0.918477         1.046987  2.766456   \n",
      "1         0.949817               -0.870183        -0.765977 -1.191404   \n",
      "2        -0.416562               -0.870183         0.140505  1.183312   \n",
      "3         1.634247               -0.870183         1.046987  0.831502   \n",
      "4         0.566664                0.024147         1.046987  1.535122   \n",
      "..             ...                     ...              ...       ...   \n",
      "995      -0.544162                0.024147         1.046987 -0.399832   \n",
      "996       0.207612                0.918477         1.046987  0.391740   \n",
      "997      -0.874503                0.918477         1.046987  0.215835   \n",
      "998      -0.505528                0.918477         1.046987 -1.103451   \n",
      "999       0.462457                0.024147         1.046987 -0.751642   \n",
      "\n",
      "     existing_credits  num_dependents  own_telephone  foreign_worker  class  \n",
      "0            1.027079       -0.428290              1               1      1  \n",
      "1           -0.704926       -0.428290              0               1      0  \n",
      "2           -0.704926        2.334869              0               1      1  \n",
      "3           -0.704926        2.334869              0               1      1  \n",
      "4            1.027079        2.334869              0               1      0  \n",
      "..                ...             ...            ...             ...    ...  \n",
      "995         -0.704926       -0.428290              0               1      1  \n",
      "996         -0.704926       -0.428290              1               1      1  \n",
      "997         -0.704926       -0.428290              0               1      1  \n",
      "998         -0.704926       -0.428290              1               1      0  \n",
      "999         -0.704926       -0.428290              0               1      1  \n",
      "\n",
      "[1000 rows x 60 columns]\n"
     ]
    }
   ],
   "source": [
    "df = pd.DataFrame(data)\n",
    "\n",
    "columns_to_scale = ['num_dependents', 'existing_credits', 'age', 'residence_since',\n",
    "                    'installment_commitment', 'credit_amount', 'duration']\n",
    "\n",
    "\n",
    "scaler = StandardScaler()\n",
    "scaled = scaler.fit_transform(df[columns_to_scale])\n",
    "scaled_columns = pd.DataFrame(scaled, columns=columns_to_scale, index=df.index)\n",
    "df[columns_to_scale] = scaled_columns\n",
    "print(df)"
   ]
  },
  {
   "cell_type": "markdown",
   "metadata": {},
   "source": [
    "## Data Splitting and Bias"
   ]
  },
  {
   "cell_type": "code",
   "execution_count": 9,
   "metadata": {},
   "outputs": [
    {
     "name": "stdout",
     "output_type": "stream",
     "text": [
      "(700, 60) (300, 60) (700,) (300,)\n"
     ]
    }
   ],
   "source": [
    "X = df.drop(\"class\", axis = 1)\n",
    "y = data[\"class\"]\n",
    "\n",
    "X = np.array(X)\n",
    "y = np.array(y)\n",
    "\n",
    "ones_column = np.ones((X.shape[0], 1))\n",
    "X = np.hstack((ones_column, X))\n",
    "\n",
    "X_train, X_test, y_train, y_test=train_test_split(X, y, test_size=0.3, random_state=42)\n",
    "\n",
    "print(X_train.shape, X_test.shape, y_train.shape, y_test.shape)"
   ]
  },
  {
   "attachments": {},
   "cell_type": "markdown",
   "metadata": {},
   "source": [
    "## SVM"
   ]
  },
  {
   "cell_type": "code",
   "execution_count": 10,
   "metadata": {},
   "outputs": [
    {
     "name": "stdout",
     "output_type": "stream",
     "text": [
      "kernel='linear',\t accuracy_train=0.786,\t accuracy_test=0.767\n",
      "kernel='poly',\t accuracy_train=0.921,\t accuracy_test=0.773\n",
      "kernel='rbf',\t accuracy_train=0.870,\t accuracy_test=0.770\n",
      "kernel='sigmoid',\t accuracy_train=0.700,\t accuracy_test=0.727\n"
     ]
    }
   ],
   "source": [
    "# try different kernels\n",
    "for kernel in [\"linear\", \"poly\", \"rbf\", \"sigmoid\"]:\n",
    "    clf = svm.SVC(kernel=kernel)\n",
    "    clf.fit(X_train, y_train)\n",
    "    # print(clf.support_vectors_)\n",
    "\n",
    "    accuracy_train = clf.score(X_train, y_train)\n",
    "    accuracy_test  = clf.score(X_test, y_test)\n",
    "\n",
    "    print(f\"{kernel=},\\t {accuracy_train=:.3f},\\t {accuracy_test=:.3f}\")"
   ]
  },
  {
   "cell_type": "code",
   "execution_count": 12,
   "metadata": {},
   "outputs": [
    {
     "name": "stdout",
     "output_type": "stream",
     "text": [
      "kfold=2 c=100,\t mean:0.757,\t std:0.030,\t scores=array([0.78666667, 0.72666667])\n",
      "kfold=3 c=1,\t mean:0.737,\t std:0.045,\t scores=array([0.79, 0.74, 0.68])\n",
      "kfold=4 c=1,\t mean:0.733,\t std:0.034,\t scores=array([0.77333333, 0.76      , 0.70666667, 0.69333333])\n",
      "kfold=5 c=1,\t mean:0.723,\t std:0.036,\t scores=array([0.76666667, 0.7       , 0.7       , 0.76666667, 0.68333333])\n",
      "kfold=6 c=10,\t mean:0.730,\t std:0.044,\t scores=array([0.7 , 0.78, 0.8 , 0.72, 0.68, 0.7 ])\n",
      "kfold=7 c=10,\t mean:0.733,\t std:0.017,\t scores=array([0.74418605, 0.72093023, 0.74418605, 0.74418605, 0.74418605,\n",
      "       0.69767442, 0.73809524])\n",
      "kfold=8 c=10,\t mean:0.737,\t std:0.045,\t scores=array([0.71052632, 0.71052632, 0.84210526, 0.71052632, 0.7027027 ,\n",
      "       0.7027027 , 0.75675676, 0.75675676])\n",
      "kfold=9 c=10,\t mean:0.746,\t std:0.030,\t scores=array([0.73529412, 0.76470588, 0.79411765, 0.72727273, 0.72727273,\n",
      "       0.75757576, 0.72727273, 0.6969697 , 0.78787879])\n"
     ]
    }
   ],
   "source": [
    "# k-fold cross validation with different C values\n",
    "for kernel in [\"linear\", \"poly\", \"rbf\", \"sigmoid\"]:\n",
    "    for kfold in range(2, 10):\n",
    "        best_mean_for_c = (0, \"\")\n",
    "        for c in [0.0000001, 0.00001, 0.001, 0.01, 0.1, 1, 10, 100, 10000, 1000000]:\n",
    "            clf = svm.SVC(kernel=\"rbf\", C=c)\n",
    "            clf.fit(X_train, y_train)  # train on train set\n",
    "            scores = cross_val_score(clf, X_test, y_test, cv=kfold)  # test on test set\n",
    "            if scores.mean() > best_mean_for_c[0]:\n",
    "                best_mean_for_c = (scores.mean(), f\"{kernel=} {kfold=} {c=},\\t acc mean:{scores.mean():.3f},\\t acc std:{scores.std():.3f},\\t {scores=}\")\n",
    "        print(best_mean_for_c[1])\n"
   ]
  }
 ],
 "metadata": {
  "kernelspec": {
   "display_name": "4563",
   "language": "python",
   "name": "python3"
  },
  "language_info": {
   "codemirror_mode": {
    "name": "ipython",
    "version": 3
   },
   "file_extension": ".py",
   "mimetype": "text/x-python",
   "name": "python",
   "nbconvert_exporter": "python",
   "pygments_lexer": "ipython3",
   "version": "3.11.1"
  },
  "orig_nbformat": 4
 },
 "nbformat": 4,
 "nbformat_minor": 2
}
