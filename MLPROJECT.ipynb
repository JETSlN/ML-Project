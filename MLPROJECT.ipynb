{
 "cells": [
  {
   "cell_type": "markdown",
   "id": "690b8f40",
   "metadata": {},
   "source": [
    "# Credit Score Detection"
   ]
  },
  {
   "cell_type": "markdown",
   "id": "aa7be330",
   "metadata": {},
   "source": [
    "## Importing Libraries "
   ]
  },
  {
   "cell_type": "code",
   "execution_count": 114,
   "id": "7d60b504",
   "metadata": {},
   "outputs": [],
   "source": [
    "import numpy as np\n",
    "import pandas as pd\n",
    "from sklearn import preprocessing\n",
    "from sklearn.linear_model import LogisticRegression\n",
    "from sklearn.model_selection import train_test_split\n",
    "import matplotlib.pyplot as plt\n",
    "from sklearn.metrics import accuracy_score, classification_report, confusion_matrix\n",
    "from sklearn.preprocessing import MinMaxScaler\n",
    "from sklearn.preprocessing import PolynomialFeatures\n",
    "from sklearn.preprocessing import StandardScaler\n",
    "from sklearn.linear_model import LogisticRegressionCV"
   ]
  },
  {
   "cell_type": "markdown",
   "id": "dac4514e",
   "metadata": {},
   "source": [
    "## Get Dataset "
   ]
  },
  {
   "cell_type": "code",
   "execution_count": 99,
   "id": "17187623",
   "metadata": {},
   "outputs": [
    {
     "name": "stdout",
     "output_type": "stream",
     "text": [
      "    checking_status  duration                  credit_history  \\\n",
      "0                <0       6.0  critical/other existing credit   \n",
      "1          0<=X<200      48.0                   existing paid   \n",
      "2       no checking      12.0  critical/other existing credit   \n",
      "3                <0      42.0                   existing paid   \n",
      "4                <0      24.0              delayed previously   \n",
      "..              ...       ...                             ...   \n",
      "995     no checking      12.0                   existing paid   \n",
      "996              <0      30.0                   existing paid   \n",
      "997     no checking      12.0                   existing paid   \n",
      "998              <0      45.0                   existing paid   \n",
      "999        0<=X<200      45.0  critical/other existing credit   \n",
      "\n",
      "                 purpose  credit_amount    savings_status  employment  \\\n",
      "0               radio/tv         1169.0  no known savings         >=7   \n",
      "1               radio/tv         5951.0              <100      1<=X<4   \n",
      "2              education         2096.0              <100      4<=X<7   \n",
      "3    furniture/equipment         7882.0              <100      4<=X<7   \n",
      "4                new car         4870.0              <100      1<=X<4   \n",
      "..                   ...            ...               ...         ...   \n",
      "995  furniture/equipment         1736.0              <100      4<=X<7   \n",
      "996             used car         3857.0              <100      1<=X<4   \n",
      "997             radio/tv          804.0              <100         >=7   \n",
      "998             radio/tv         1845.0              <100      1<=X<4   \n",
      "999             used car         4576.0        100<=X<500  unemployed   \n",
      "\n",
      "     installment_commitment     personal_status other_parties  ...  \\\n",
      "0                       4.0         male single          none  ...   \n",
      "1                       2.0  female div/dep/mar          none  ...   \n",
      "2                       2.0         male single          none  ...   \n",
      "3                       2.0         male single     guarantor  ...   \n",
      "4                       3.0         male single          none  ...   \n",
      "..                      ...                 ...           ...  ...   \n",
      "995                     3.0  female div/dep/mar          none  ...   \n",
      "996                     4.0        male div/sep          none  ...   \n",
      "997                     4.0         male single          none  ...   \n",
      "998                     4.0         male single          none  ...   \n",
      "999                     3.0         male single          none  ...   \n",
      "\n",
      "     property_magnitude   age  other_payment_plans   housing existing_credits  \\\n",
      "0           real estate  67.0                 none       own              2.0   \n",
      "1           real estate  22.0                 none       own              1.0   \n",
      "2           real estate  49.0                 none       own              1.0   \n",
      "3        life insurance  45.0                 none  for free              1.0   \n",
      "4     no known property  53.0                 none  for free              2.0   \n",
      "..                  ...   ...                  ...       ...              ...   \n",
      "995         real estate  31.0                 none       own              1.0   \n",
      "996      life insurance  40.0                 none       own              1.0   \n",
      "997                 car  38.0                 none       own              1.0   \n",
      "998   no known property  23.0                 none  for free              1.0   \n",
      "999                 car  27.0                 none       own              1.0   \n",
      "\n",
      "                           job num_dependents  own_telephone foreign_worker  \\\n",
      "0                      skilled            1.0            yes            yes   \n",
      "1                      skilled            1.0           none            yes   \n",
      "2           unskilled resident            2.0           none            yes   \n",
      "3                      skilled            2.0           none            yes   \n",
      "4                      skilled            2.0           none            yes   \n",
      "..                         ...            ...            ...            ...   \n",
      "995         unskilled resident            1.0           none            yes   \n",
      "996  high qualif/self emp/mgmt            1.0            yes            yes   \n",
      "997                    skilled            1.0           none            yes   \n",
      "998                    skilled            1.0            yes            yes   \n",
      "999                    skilled            1.0           none            yes   \n",
      "\n",
      "    class  \n",
      "0    good  \n",
      "1     bad  \n",
      "2    good  \n",
      "3    good  \n",
      "4     bad  \n",
      "..    ...  \n",
      "995  good  \n",
      "996  good  \n",
      "997  good  \n",
      "998   bad  \n",
      "999  good  \n",
      "\n",
      "[1000 rows x 21 columns]\n"
     ]
    }
   ],
   "source": [
    "data = pd.read_csv(\"C:/Users/Jeffr/OneDrive/Documents/work/ML/credit_customers.csv\")\n",
    "print(data)"
   ]
  },
  {
   "cell_type": "markdown",
   "id": "08766968",
   "metadata": {},
   "source": [
    "## One-hot-encoding"
   ]
  },
  {
   "cell_type": "code",
   "execution_count": 100,
   "id": "fc82cdc6",
   "metadata": {},
   "outputs": [
    {
     "name": "stdout",
     "output_type": "stream",
     "text": [
      "60\n"
     ]
    }
   ],
   "source": [
    "features_to_encode = [\"checking_status\", \"credit_history\", \"purpose\", \"savings_status\", \"other_payment_plans\", \n",
    "                      \"employment\", \"personal_status\", \"other_parties\", \"property_magnitude\",\"housing\", \"job\"]\n",
    "\n",
    "one_hot_encoded = pd.get_dummies(data[features_to_encode]) \n",
    "data = pd.concat([one_hot_encoded, data], axis=1)\n",
    "data = data.drop(features_to_encode, axis=1)\n",
    "\n",
    "data['own_telephone']  = data['own_telephone'].replace({\"none\": 0, \"yes\": 1})\n",
    "data['foreign_worker']  = data['foreign_worker'].replace({\"no\": 0, \"yes\": 1})\n",
    "data['class']  = data['class'].replace({\"bad\": 0, \"good\": 1})\n",
    "df = pd.DataFrame(data)\n",
    "print(len(df.columns.tolist()))"
   ]
  },
  {
   "cell_type": "markdown",
   "id": "58a79d80",
   "metadata": {},
   "source": [
    "## Scaling Data using MinMax"
   ]
  },
  {
   "cell_type": "code",
   "execution_count": 101,
   "id": "eb6c460a",
   "metadata": {
    "scrolled": true
   },
   "outputs": [
    {
     "name": "stdout",
     "output_type": "stream",
     "text": [
      "     checking_status_0<=X<200  checking_status_<0  checking_status_>=200  \\\n",
      "0                           0                   1                      0   \n",
      "1                           1                   0                      0   \n",
      "2                           0                   0                      0   \n",
      "3                           0                   1                      0   \n",
      "4                           0                   1                      0   \n",
      "..                        ...                 ...                    ...   \n",
      "995                         0                   0                      0   \n",
      "996                         0                   1                      0   \n",
      "997                         0                   0                      0   \n",
      "998                         0                   1                      0   \n",
      "999                         1                   0                      0   \n",
      "\n",
      "     checking_status_no checking  credit_history_all paid  \\\n",
      "0                              0                        0   \n",
      "1                              0                        0   \n",
      "2                              1                        0   \n",
      "3                              0                        0   \n",
      "4                              0                        0   \n",
      "..                           ...                      ...   \n",
      "995                            1                        0   \n",
      "996                            0                        0   \n",
      "997                            1                        0   \n",
      "998                            0                        0   \n",
      "999                            0                        0   \n",
      "\n",
      "     credit_history_critical/other existing credit  \\\n",
      "0                                                1   \n",
      "1                                                0   \n",
      "2                                                1   \n",
      "3                                                0   \n",
      "4                                                0   \n",
      "..                                             ...   \n",
      "995                                              0   \n",
      "996                                              0   \n",
      "997                                              0   \n",
      "998                                              0   \n",
      "999                                              1   \n",
      "\n",
      "     credit_history_delayed previously  credit_history_existing paid  \\\n",
      "0                                    0                             0   \n",
      "1                                    0                             1   \n",
      "2                                    0                             0   \n",
      "3                                    0                             1   \n",
      "4                                    1                             0   \n",
      "..                                 ...                           ...   \n",
      "995                                  0                             1   \n",
      "996                                  0                             1   \n",
      "997                                  0                             1   \n",
      "998                                  0                             1   \n",
      "999                                  0                             0   \n",
      "\n",
      "     credit_history_no credits/all paid  purpose_business  ...  duration  \\\n",
      "0                                     0                 0  ... -1.236478   \n",
      "1                                     0                 0  ...  2.248194   \n",
      "2                                     0                 0  ... -0.738668   \n",
      "3                                     0                 0  ...  1.750384   \n",
      "4                                     0                 0  ...  0.256953   \n",
      "..                                  ...               ...  ...       ...   \n",
      "995                                   0                 0  ... -0.738668   \n",
      "996                                   0                 0  ...  0.754763   \n",
      "997                                   0                 0  ... -0.738668   \n",
      "998                                   0                 0  ...  1.999289   \n",
      "999                                   0                 0  ...  1.999289   \n",
      "\n",
      "     credit_amount  installment_commitment  residence_since       age  \\\n",
      "0        -0.745131                0.918477         1.046987  2.766456   \n",
      "1         0.949817               -0.870183        -0.765977 -1.191404   \n",
      "2        -0.416562               -0.870183         0.140505  1.183312   \n",
      "3         1.634247               -0.870183         1.046987  0.831502   \n",
      "4         0.566664                0.024147         1.046987  1.535122   \n",
      "..             ...                     ...              ...       ...   \n",
      "995      -0.544162                0.024147         1.046987 -0.399832   \n",
      "996       0.207612                0.918477         1.046987  0.391740   \n",
      "997      -0.874503                0.918477         1.046987  0.215835   \n",
      "998      -0.505528                0.918477         1.046987 -1.103451   \n",
      "999       0.462457                0.024147         1.046987 -0.751642   \n",
      "\n",
      "     existing_credits  num_dependents  own_telephone  foreign_worker  class  \n",
      "0            1.027079       -0.428290              1               1      1  \n",
      "1           -0.704926       -0.428290              0               1      0  \n",
      "2           -0.704926        2.334869              0               1      1  \n",
      "3           -0.704926        2.334869              0               1      1  \n",
      "4            1.027079        2.334869              0               1      0  \n",
      "..                ...             ...            ...             ...    ...  \n",
      "995         -0.704926       -0.428290              0               1      1  \n",
      "996         -0.704926       -0.428290              1               1      1  \n",
      "997         -0.704926       -0.428290              0               1      1  \n",
      "998         -0.704926       -0.428290              1               1      0  \n",
      "999         -0.704926       -0.428290              0               1      1  \n",
      "\n",
      "[1000 rows x 60 columns]\n"
     ]
    }
   ],
   "source": [
    "df = pd.DataFrame(data)\n",
    "\n",
    "columns_to_scale = ['num_dependents', 'existing_credits', 'age', 'residence_since',\n",
    "                    'installment_commitment', 'credit_amount', 'duration']\n",
    "\n",
    "\n",
    "scaler = StandardScaler()\n",
    "scaled = scaler.fit_transform(df[columns_to_scale])\n",
    "scaled_columns = pd.DataFrame(scaled, columns=columns_to_scale, index=df.index)\n",
    "df[columns_to_scale] = scaled_columns\n",
    "print(df)"
   ]
  },
  {
   "cell_type": "markdown",
   "id": "b83a6fb3",
   "metadata": {},
   "source": [
    "## Data Splitting and Bias"
   ]
  },
  {
   "cell_type": "code",
   "execution_count": 108,
   "id": "5f094a95",
   "metadata": {},
   "outputs": [
    {
     "name": "stdout",
     "output_type": "stream",
     "text": [
      "(700, 60) (300, 60) (700,) (300,)\n"
     ]
    }
   ],
   "source": [
    "X = df.drop(\"class\", axis = 1)\n",
    "y = data[\"class\"]\n",
    "\n",
    "X = np.array(X)\n",
    "y = np.array(y)\n",
    "\n",
    "ones_column = np.ones((X.shape[0], 1))\n",
    "X = np.hstack((ones_column, X))\n",
    "\n",
    "X_train, X_test, y_train, y_test=train_test_split(X, y, test_size=0.3, random_state=42)\n",
    "\n",
    "print(X_train.shape, X_test.shape, y_train.shape, y_test.shape)"
   ]
  },
  {
   "cell_type": "markdown",
   "id": "fc5f9eab",
   "metadata": {},
   "source": [
    "## Logistic Regression"
   ]
  },
  {
   "cell_type": "markdown",
   "id": "b002bd0b",
   "metadata": {},
   "source": [
    "### Polynomial Transformation\n"
   ]
  },
  {
   "cell_type": "code",
   "execution_count": 109,
   "id": "153eaf4c",
   "metadata": {},
   "outputs": [
    {
     "name": "stdout",
     "output_type": "stream",
     "text": [
      "Degree 1: Training accuracy = 0.790, Test accuracy = 0.773\n",
      "Degree 2: Training accuracy = 0.997, Test accuracy = 0.750\n",
      "Degree 3: Training accuracy = 1.000, Test accuracy = 0.750\n"
     ]
    }
   ],
   "source": [
    "for i in range(3):\n",
    "    polyTransform = PolynomialFeatures(degree=i+1, include_bias=False)\n",
    "    X_train_poly = polyTransform.fit_transform(X_train)\n",
    "    X_test_poly = polyTransform.transform(X_test)  # Transform the test data\n",
    "    \n",
    "    logisticRegr = LogisticRegression(max_iter = 100000)\n",
    "    logisticRegr.fit(X_train_poly, y_train)\n",
    "    \n",
    "    y_pred_train = logisticRegr.predict(X_train_poly)\n",
    "    accuracy_train = accuracy_score(y_train, y_pred_train)  # Calculate accuracy on training set\n",
    "\n",
    "    y_pred_test = logisticRegr.predict(X_test_poly)\n",
    "    accuracy_test = accuracy_score(y_test, y_pred_test)  # Calculate accuracy on test set\n",
    "\n",
    "    print(f\"Degree {i+1}: Training accuracy = {accuracy_train:.3f}, Test accuracy = {accuracy_test:.3f}\")"
   ]
  },
  {
   "cell_type": "markdown",
   "id": "ac3ef1a0",
   "metadata": {},
   "source": [
    "## Regularization with K-fold validation"
   ]
  },
  {
   "cell_type": "code",
   "execution_count": 134,
   "id": "dab34d8f",
   "metadata": {},
   "outputs": [
    {
     "name": "stdout",
     "output_type": "stream",
     "text": [
      "Penalty: ('l1', 'liblinear'), Folds: 2, Best C Value: 0.1\n",
      "Training accuracy: 0.753\n",
      "Test accuracy: 0.723\n",
      "\n",
      "Penalty: ('l1', 'liblinear'), Folds: 3, Best C Value: 0.1\n",
      "Training accuracy: 0.753\n",
      "Test accuracy: 0.723\n",
      "\n",
      "Penalty: ('l1', 'liblinear'), Folds: 4, Best C Value: 1.0\n",
      "Training accuracy: 0.786\n",
      "Test accuracy: 0.773\n",
      "\n",
      "Penalty: ('l1', 'liblinear'), Folds: 5, Best C Value: 0.1\n",
      "Training accuracy: 0.753\n",
      "Test accuracy: 0.723\n",
      "\n",
      "Penalty: ('l1', 'liblinear'), Folds: 6, Best C Value: 1.0\n",
      "Training accuracy: 0.786\n",
      "Test accuracy: 0.773\n",
      "\n",
      "Penalty: ('l1', 'liblinear'), Folds: 7, Best C Value: 1.0\n",
      "Training accuracy: 0.786\n",
      "Test accuracy: 0.773\n",
      "\n",
      "Penalty: ('l1', 'liblinear'), Folds: 8, Best C Value: 1.0\n",
      "Training accuracy: 0.786\n",
      "Test accuracy: 0.773\n",
      "\n",
      "Penalty: ('l1', 'liblinear'), Folds: 9, Best C Value: 1.0\n",
      "Training accuracy: 0.786\n",
      "Test accuracy: 0.773\n",
      "\n",
      "Penalty: ('l1', 'liblinear'), Folds: 10, Best C Value: 10.0\n",
      "Training accuracy: 0.794\n",
      "Test accuracy: 0.777\n",
      "\n",
      "Penalty: ('l2', 'lbfgs'), Folds: 2, Best C Value: 0.1\n",
      "Training accuracy: 0.774\n",
      "Test accuracy: 0.757\n",
      "\n",
      "Penalty: ('l2', 'lbfgs'), Folds: 3, Best C Value: 0.1\n",
      "Training accuracy: 0.774\n",
      "Test accuracy: 0.757\n",
      "\n",
      "Penalty: ('l2', 'lbfgs'), Folds: 4, Best C Value: 0.1\n",
      "Training accuracy: 0.774\n",
      "Test accuracy: 0.757\n",
      "\n",
      "Penalty: ('l2', 'lbfgs'), Folds: 5, Best C Value: 0.1\n",
      "Training accuracy: 0.774\n",
      "Test accuracy: 0.757\n",
      "\n",
      "Penalty: ('l2', 'lbfgs'), Folds: 6, Best C Value: 0.1\n",
      "Training accuracy: 0.774\n",
      "Test accuracy: 0.757\n",
      "\n",
      "Penalty: ('l2', 'lbfgs'), Folds: 7, Best C Value: 0.1\n",
      "Training accuracy: 0.774\n",
      "Test accuracy: 0.757\n",
      "\n",
      "Penalty: ('l2', 'lbfgs'), Folds: 8, Best C Value: 0.1\n",
      "Training accuracy: 0.774\n",
      "Test accuracy: 0.757\n",
      "\n",
      "Penalty: ('l2', 'lbfgs'), Folds: 9, Best C Value: 0.1\n",
      "Training accuracy: 0.774\n",
      "Test accuracy: 0.757\n",
      "\n",
      "Penalty: ('l2', 'lbfgs'), Folds: 10, Best C Value: 0.1\n",
      "Training accuracy: 0.774\n",
      "Test accuracy: 0.757\n",
      "\n"
     ]
    }
   ],
   "source": [
    "\n",
    "k = 2\n",
    "penalty_reg =[(\"l1\", \"liblinear\"), (\"l2\",'lbfgs')]\n",
    "C = [0.0000001, 0.00001, 0.001, 0.01, 0.1, 1, 10, 100, 10000, 1000000]\n",
    "\n",
    "for i in penalty_reg:\n",
    "    for a in range(9):\n",
    "        logisticRegrCV = LogisticRegressionCV(cv=k+a, penalty=i[0], random_state=42, max_iter = 100000, solver=i[1],Cs = C)\n",
    "        logisticRegrCV.fit(X_train, y_train)\n",
    "        \n",
    "        train_score = logisticRegrCV.score(X_train, y_train)\n",
    "        test_score = logisticRegrCV.score(X_test, y_test)\n",
    "        \n",
    "        print(f\"Penalty: {i}, Folds: {k+a}, Best C Value: {logisticRegrCV.C_[0]}\")\n",
    "        print(f\"Training accuracy: {train_score:.3f}\")\n",
    "        print(f\"Test accuracy: {test_score:.3f}\")\n",
    "        print()"
   ]
  },
  {
   "cell_type": "code",
   "execution_count": null,
   "id": "b506fb24",
   "metadata": {},
   "outputs": [],
   "source": []
  }
 ],
 "metadata": {
  "kernelspec": {
   "display_name": "Python 3 (ipykernel)",
   "language": "python",
   "name": "python3"
  },
  "language_info": {
   "codemirror_mode": {
    "name": "ipython",
    "version": 3
   },
   "file_extension": ".py",
   "mimetype": "text/x-python",
   "name": "python",
   "nbconvert_exporter": "python",
   "pygments_lexer": "ipython3",
   "version": "3.9.13"
  }
 },
 "nbformat": 4,
 "nbformat_minor": 5
}
